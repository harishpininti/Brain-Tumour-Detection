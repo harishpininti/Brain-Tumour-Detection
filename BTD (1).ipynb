{
 "cells": [
  {
   "cell_type": "code",
   "execution_count": 14,
   "metadata": {},
   "outputs": [],
   "source": [
    "import tensorflow as tf\n",
    "import keras\n",
    "from keras.models import Sequential\n",
    "from keras.layers import Conv2D\n",
    "from keras.layers import MaxPooling2D\n",
    "from keras.layers import Flatten\n",
    "from keras.layers import Dense"
   ]
  },
  {
   "cell_type": "code",
   "execution_count": 15,
   "metadata": {},
   "outputs": [],
   "source": [
    "classifier = Sequential()\n",
    "\n",
    "classifier.add(Conv2D(32, (3, 3), input_shape = (64, 64, 3), activation = 'relu'))"
   ]
  },
  {
   "cell_type": "code",
   "execution_count": 16,
   "metadata": {},
   "outputs": [
    {
     "name": "stdout",
     "output_type": "stream",
     "text": [
      "_________________________________________________________________\n",
      "Layer (type)                 Output Shape              Param #   \n",
      "=================================================================\n",
      "conv2d_3 (Conv2D)            (None, 62, 62, 32)        896       \n",
      "_________________________________________________________________\n",
      "max_pooling2d_3 (MaxPooling2 (None, 31, 31, 32)        0         \n",
      "_________________________________________________________________\n",
      "conv2d_4 (Conv2D)            (None, 29, 29, 32)        9248      \n",
      "_________________________________________________________________\n",
      "max_pooling2d_4 (MaxPooling2 (None, 14, 14, 32)        0         \n",
      "_________________________________________________________________\n",
      "flatten_2 (Flatten)          (None, 6272)              0         \n",
      "_________________________________________________________________\n",
      "dense_3 (Dense)              (None, 128)               802944    \n",
      "_________________________________________________________________\n",
      "dense_4 (Dense)              (None, 1)                 129       \n",
      "=================================================================\n",
      "Total params: 813,217\n",
      "Trainable params: 813,217\n",
      "Non-trainable params: 0\n",
      "_________________________________________________________________\n"
     ]
    }
   ],
   "source": [
    "classifier.add(MaxPooling2D(pool_size = (2, 2)))\n",
    "\n",
    "classifier.add(Conv2D(32, (3, 3), activation = 'relu'))\n",
    "classifier.add(MaxPooling2D(pool_size = (2, 2)))\n",
    "\n",
    "classifier.add(Flatten())\n",
    "\n",
    "classifier.add(Dense(activation = 'relu',units=128))\n",
    "classifier.add(Dense(activation = 'sigmoid',units=1))\n",
    "\n",
    "classifier.compile(optimizer = 'adam', loss = 'binary_crossentropy', metrics = ['accuracy'])\n",
    "\n",
    "classifier.summary()"
   ]
  },
  {
   "cell_type": "code",
   "execution_count": 17,
   "metadata": {},
   "outputs": [],
   "source": [
    "from keras.preprocessing.image import ImageDataGenerator\n",
    "\n",
    "train_datagen = ImageDataGenerator(rescale = 1./255,\n",
    "                                   shear_range = 0.2,\n",
    "                                   zoom_range = 0.2,\n",
    "                                   horizontal_flip = True)\n",
    "\n",
    "test_datagen = ImageDataGenerator(rescale = 1./255)\n"
   ]
  },
  {
   "cell_type": "code",
   "execution_count": 18,
   "metadata": {},
   "outputs": [
    {
     "name": "stdout",
     "output_type": "stream",
     "text": [
      "C:\\Deep Learning Applications in\\code\\Brain_tumor\n"
     ]
    }
   ],
   "source": [
    "import os \n",
    "os.getcwd()\n",
    "os.chdir('C:/Deep Learning Applications in/code/Brain_tumor')\n",
    "print(os.getcwd())"
   ]
  },
  {
   "cell_type": "code",
   "execution_count": 19,
   "metadata": {},
   "outputs": [
    {
     "name": "stdout",
     "output_type": "stream",
     "text": [
      "Found 44 images belonging to 2 classes.\n",
      "Found 14 images belonging to 2 classes.\n"
     ]
    }
   ],
   "source": [
    "training_set = train_datagen.flow_from_directory('C:/Deep Learning Applications in/code/Brain_tumor/train/',\n",
    "                                                 target_size = (64, 64),\n",
    "                                                 batch_size = 32,\n",
    "                                                 class_mode = 'binary')\n",
    "\n",
    "test_set = test_datagen.flow_from_directory('C:/Deep Learning Applications in/code/Brain_tumor/test/',\n",
    "                                            target_size = (64, 64),\n",
    "                                            batch_size = 32,\n",
    "                                            class_mode = 'binary')\n"
   ]
  },
  {
   "cell_type": "code",
   "execution_count": 20,
   "metadata": {},
   "outputs": [
    {
     "name": "stdout",
     "output_type": "stream",
     "text": [
      "Epoch 1/100\n",
      "1/1 [==============================] - 1s 835ms/step - loss: 0.6925 - acc: 0.5000 - val_loss: 0.7868 - val_acc: 0.5714\n",
      "Epoch 2/100\n",
      "1/1 [==============================] - 0s 113ms/step - loss: 0.6627 - acc: 0.6667 - val_loss: 0.6427 - val_acc: 0.5714\n",
      "Epoch 3/100\n",
      "1/1 [==============================] - 0s 204ms/step - loss: 0.6629 - acc: 0.5938 - val_loss: 0.8045 - val_acc: 0.4286\n",
      "Epoch 4/100\n",
      "1/1 [==============================] - 0s 112ms/step - loss: 0.7381 - acc: 0.5000 - val_loss: 0.7998 - val_acc: 0.4286\n",
      "Epoch 5/100\n",
      "1/1 [==============================] - 0s 245ms/step - loss: 0.7055 - acc: 0.4375 - val_loss: 0.7147 - val_acc: 0.4286\n",
      "Epoch 6/100\n",
      "1/1 [==============================] - 0s 117ms/step - loss: 0.6233 - acc: 0.7500 - val_loss: 0.6795 - val_acc: 0.2857\n",
      "Epoch 7/100\n",
      "1/1 [==============================] - 0s 218ms/step - loss: 0.5890 - acc: 0.8125 - val_loss: 0.6628 - val_acc: 0.7143\n",
      "Epoch 8/100\n",
      "1/1 [==============================] - 0s 120ms/step - loss: 0.7144 - acc: 0.4167 - val_loss: 0.6757 - val_acc: 0.5714\n",
      "Epoch 9/100\n",
      "1/1 [==============================] - 0s 223ms/step - loss: 0.6919 - acc: 0.6562 - val_loss: 0.7097 - val_acc: 0.4286\n",
      "Epoch 10/100\n",
      "1/1 [==============================] - 0s 114ms/step - loss: 0.6073 - acc: 0.8333 - val_loss: 0.7219 - val_acc: 0.4286\n",
      "Epoch 11/100\n",
      "1/1 [==============================] - 0s 222ms/step - loss: 0.6287 - acc: 0.6875 - val_loss: 0.7382 - val_acc: 0.4286\n",
      "Epoch 12/100\n",
      "1/1 [==============================] - 0s 112ms/step - loss: 0.4604 - acc: 1.0000 - val_loss: 0.7464 - val_acc: 0.5714\n",
      "Epoch 13/100\n",
      "1/1 [==============================] - 0s 212ms/step - loss: 0.5616 - acc: 0.8125 - val_loss: 0.7498 - val_acc: 0.5714\n",
      "Epoch 14/100\n",
      "1/1 [==============================] - 0s 109ms/step - loss: 0.5870 - acc: 0.7500 - val_loss: 0.7682 - val_acc: 0.5714\n",
      "Epoch 15/100\n",
      "1/1 [==============================] - 0s 208ms/step - loss: 0.6223 - acc: 0.7188 - val_loss: 0.7974 - val_acc: 0.5714\n",
      "Epoch 16/100\n",
      "1/1 [==============================] - 0s 103ms/step - loss: 0.6806 - acc: 0.5000 - val_loss: 0.8260 - val_acc: 0.5714\n",
      "Epoch 17/100\n",
      "1/1 [==============================] - 0s 217ms/step - loss: 0.5402 - acc: 0.7812 - val_loss: 0.8525 - val_acc: 0.4286\n",
      "Epoch 18/100\n",
      "1/1 [==============================] - 0s 109ms/step - loss: 0.6450 - acc: 0.6667 - val_loss: 0.9237 - val_acc: 0.4286\n",
      "Epoch 19/100\n",
      "1/1 [==============================] - 0s 221ms/step - loss: 0.4770 - acc: 0.8125 - val_loss: 0.9847 - val_acc: 0.4286\n",
      "Epoch 20/100\n",
      "1/1 [==============================] - 0s 105ms/step - loss: 0.5431 - acc: 0.6667 - val_loss: 0.9675 - val_acc: 0.4286\n",
      "Epoch 21/100\n",
      "1/1 [==============================] - 0s 217ms/step - loss: 0.5212 - acc: 0.6875 - val_loss: 0.9188 - val_acc: 0.4286\n",
      "Epoch 22/100\n",
      "1/1 [==============================] - 0s 104ms/step - loss: 0.4412 - acc: 0.9167 - val_loss: 0.9087 - val_acc: 0.5714\n",
      "Epoch 23/100\n",
      "1/1 [==============================] - 0s 209ms/step - loss: 0.4175 - acc: 0.8438 - val_loss: 0.9351 - val_acc: 0.5714\n",
      "Epoch 24/100\n",
      "1/1 [==============================] - 0s 113ms/step - loss: 0.5878 - acc: 0.5833 - val_loss: 1.0324 - val_acc: 0.4286\n",
      "Epoch 25/100\n",
      "1/1 [==============================] - 0s 209ms/step - loss: 0.4276 - acc: 0.8438 - val_loss: 1.1266 - val_acc: 0.4286\n",
      "Epoch 26/100\n",
      "1/1 [==============================] - 0s 110ms/step - loss: 0.4882 - acc: 0.8333 - val_loss: 1.2821 - val_acc: 0.2857\n",
      "Epoch 27/100\n",
      "1/1 [==============================] - 0s 223ms/step - loss: 0.4826 - acc: 0.7812 - val_loss: 1.2865 - val_acc: 0.2857\n",
      "Epoch 28/100\n",
      "1/1 [==============================] - 0s 119ms/step - loss: 0.4245 - acc: 0.8333 - val_loss: 1.1358 - val_acc: 0.4286\n",
      "Epoch 29/100\n",
      "1/1 [==============================] - 0s 229ms/step - loss: 0.3865 - acc: 0.8125 - val_loss: 1.0067 - val_acc: 0.4286\n",
      "Epoch 30/100\n",
      "1/1 [==============================] - 0s 129ms/step - loss: 0.4713 - acc: 0.6667 - val_loss: 1.0087 - val_acc: 0.4286\n",
      "Epoch 31/100\n",
      "1/1 [==============================] - 0s 230ms/step - loss: 0.3763 - acc: 0.7812 - val_loss: 1.0729 - val_acc: 0.5714\n",
      "Epoch 32/100\n",
      "1/1 [==============================] - 0s 114ms/step - loss: 0.3542 - acc: 0.8333 - val_loss: 1.1700 - val_acc: 0.4286\n",
      "Epoch 33/100\n",
      "1/1 [==============================] - 0s 236ms/step - loss: 0.3661 - acc: 0.8750 - val_loss: 1.2491 - val_acc: 0.4286\n",
      "Epoch 34/100\n",
      "1/1 [==============================] - 0s 116ms/step - loss: 0.3338 - acc: 1.0000 - val_loss: 1.3197 - val_acc: 0.4286\n",
      "Epoch 35/100\n",
      "1/1 [==============================] - 0s 215ms/step - loss: 0.3178 - acc: 0.9375 - val_loss: 1.3190 - val_acc: 0.4286\n",
      "Epoch 36/100\n",
      "1/1 [==============================] - 0s 108ms/step - loss: 0.3061 - acc: 0.9167 - val_loss: 1.3396 - val_acc: 0.4286\n",
      "Epoch 37/100\n",
      "1/1 [==============================] - 0s 217ms/step - loss: 0.2583 - acc: 0.9062 - val_loss: 1.3685 - val_acc: 0.5714\n",
      "Epoch 38/100\n",
      "1/1 [==============================] - 0s 112ms/step - loss: 0.2628 - acc: 0.9167 - val_loss: 1.4634 - val_acc: 0.5714\n",
      "Epoch 39/100\n",
      "1/1 [==============================] - 0s 213ms/step - loss: 0.2354 - acc: 0.8750 - val_loss: 1.5695 - val_acc: 0.5714\n",
      "Epoch 40/100\n",
      "1/1 [==============================] - 0s 114ms/step - loss: 0.3024 - acc: 0.9167 - val_loss: 1.8631 - val_acc: 0.4286\n",
      "Epoch 41/100\n",
      "1/1 [==============================] - 0s 231ms/step - loss: 0.2823 - acc: 0.9062 - val_loss: 2.0335 - val_acc: 0.4286\n",
      "Epoch 42/100\n",
      "1/1 [==============================] - 0s 110ms/step - loss: 0.1848 - acc: 1.0000 - val_loss: 2.2101 - val_acc: 0.4286\n",
      "Epoch 43/100\n",
      "1/1 [==============================] - 0s 215ms/step - loss: 0.2494 - acc: 0.8438 - val_loss: 2.2415 - val_acc: 0.4286\n",
      "Epoch 44/100\n",
      "1/1 [==============================] - 0s 112ms/step - loss: 0.0970 - acc: 1.0000 - val_loss: 2.1647 - val_acc: 0.5714\n",
      "Epoch 45/100\n",
      "1/1 [==============================] - 0s 216ms/step - loss: 0.2133 - acc: 0.8750 - val_loss: 2.1088 - val_acc: 0.5714\n",
      "Epoch 46/100\n",
      "1/1 [==============================] - 0s 108ms/step - loss: 0.4036 - acc: 0.7500 - val_loss: 2.2828 - val_acc: 0.4286\n",
      "Epoch 47/100\n",
      "1/1 [==============================] - 0s 212ms/step - loss: 0.3720 - acc: 0.8125 - val_loss: 2.6371 - val_acc: 0.4286\n",
      "Epoch 48/100\n",
      "1/1 [==============================] - 0s 115ms/step - loss: 0.4207 - acc: 0.8333 - val_loss: 2.4335 - val_acc: 0.4286\n",
      "Epoch 49/100\n",
      "1/1 [==============================] - 0s 230ms/step - loss: 0.4250 - acc: 0.7812 - val_loss: 1.8964 - val_acc: 0.4286\n",
      "Epoch 50/100\n",
      "1/1 [==============================] - 0s 111ms/step - loss: 0.2180 - acc: 0.8333 - val_loss: 1.6907 - val_acc: 0.4286\n",
      "Epoch 51/100\n",
      "1/1 [==============================] - 0s 216ms/step - loss: 0.1479 - acc: 0.9375 - val_loss: 1.5965 - val_acc: 0.2857\n",
      "Epoch 52/100\n",
      "1/1 [==============================] - 0s 119ms/step - loss: 0.3261 - acc: 0.8333 - val_loss: 1.5772 - val_acc: 0.2857\n",
      "Epoch 53/100\n",
      "1/1 [==============================] - 0s 217ms/step - loss: 0.1718 - acc: 0.9375 - val_loss: 1.6094 - val_acc: 0.4286\n",
      "Epoch 54/100\n",
      "1/1 [==============================] - 0s 126ms/step - loss: 0.4057 - acc: 0.8333 - val_loss: 1.6518 - val_acc: 0.4286\n",
      "Epoch 55/100\n",
      "1/1 [==============================] - 0s 209ms/step - loss: 0.2429 - acc: 0.9062 - val_loss: 1.6158 - val_acc: 0.4286\n",
      "Epoch 56/100\n",
      "1/1 [==============================] - 0s 121ms/step - loss: 0.1058 - acc: 1.0000 - val_loss: 1.6372 - val_acc: 0.4286\n",
      "Epoch 57/100\n",
      "1/1 [==============================] - 0s 225ms/step - loss: 0.2204 - acc: 0.9375 - val_loss: 1.5753 - val_acc: 0.4286\n",
      "Epoch 58/100\n",
      "1/1 [==============================] - 0s 112ms/step - loss: 0.1524 - acc: 1.0000 - val_loss: 1.5046 - val_acc: 0.1429\n",
      "Epoch 59/100\n",
      "1/1 [==============================] - 0s 214ms/step - loss: 0.1618 - acc: 0.9688 - val_loss: 1.5358 - val_acc: 0.2857\n",
      "Epoch 60/100\n",
      "1/1 [==============================] - 0s 108ms/step - loss: 0.2458 - acc: 0.8333 - val_loss: 1.5543 - val_acc: 0.2857\n",
      "Epoch 61/100\n",
      "1/1 [==============================] - 0s 236ms/step - loss: 0.2277 - acc: 0.8750 - val_loss: 1.6540 - val_acc: 0.4286\n",
      "Epoch 62/100\n",
      "1/1 [==============================] - 0s 113ms/step - loss: 0.0689 - acc: 1.0000 - val_loss: 1.8525 - val_acc: 0.4286\n",
      "Epoch 63/100\n",
      "1/1 [==============================] - 0s 221ms/step - loss: 0.1597 - acc: 0.9375 - val_loss: 2.0197 - val_acc: 0.4286\n"
     ]
    },
    {
     "name": "stdout",
     "output_type": "stream",
     "text": [
      "Epoch 64/100\n",
      "1/1 [==============================] - 0s 118ms/step - loss: 0.4158 - acc: 0.8333 - val_loss: 1.8287 - val_acc: 0.4286\n",
      "Epoch 65/100\n",
      "1/1 [==============================] - 0s 202ms/step - loss: 0.1702 - acc: 0.9375 - val_loss: 1.6782 - val_acc: 0.2857\n",
      "Epoch 66/100\n",
      "1/1 [==============================] - 0s 105ms/step - loss: 0.0782 - acc: 1.0000 - val_loss: 1.7243 - val_acc: 0.4286\n",
      "Epoch 67/100\n",
      "1/1 [==============================] - 0s 206ms/step - loss: 0.3969 - acc: 0.7188 - val_loss: 1.6612 - val_acc: 0.2857\n",
      "Epoch 68/100\n",
      "1/1 [==============================] - 0s 107ms/step - loss: 0.0839 - acc: 1.0000 - val_loss: 1.7133 - val_acc: 0.4286\n",
      "Epoch 69/100\n",
      "1/1 [==============================] - 0s 206ms/step - loss: 0.1239 - acc: 0.9688 - val_loss: 1.9435 - val_acc: 0.4286\n",
      "Epoch 70/100\n",
      "1/1 [==============================] - 0s 106ms/step - loss: 0.2252 - acc: 0.8333 - val_loss: 1.9733 - val_acc: 0.4286\n",
      "Epoch 71/100\n",
      "1/1 [==============================] - 0s 208ms/step - loss: 0.0950 - acc: 1.0000 - val_loss: 1.9656 - val_acc: 0.4286\n",
      "Epoch 72/100\n",
      "1/1 [==============================] - 0s 111ms/step - loss: 0.2298 - acc: 0.8333 - val_loss: 1.8410 - val_acc: 0.4286\n",
      "Epoch 73/100\n",
      "1/1 [==============================] - 0s 198ms/step - loss: 0.0986 - acc: 1.0000 - val_loss: 1.7330 - val_acc: 0.5714\n",
      "Epoch 74/100\n",
      "1/1 [==============================] - 0s 110ms/step - loss: 0.1624 - acc: 0.9167 - val_loss: 1.7283 - val_acc: 0.5714\n",
      "Epoch 75/100\n",
      "1/1 [==============================] - 0s 196ms/step - loss: 0.1521 - acc: 0.9688 - val_loss: 1.7602 - val_acc: 0.5714\n",
      "Epoch 76/100\n",
      "1/1 [==============================] - 0s 99ms/step - loss: 0.1462 - acc: 1.0000 - val_loss: 1.8933 - val_acc: 0.5714\n",
      "Epoch 77/100\n",
      "1/1 [==============================] - 0s 203ms/step - loss: 0.1449 - acc: 0.9062 - val_loss: 2.1273 - val_acc: 0.4286\n",
      "Epoch 78/100\n",
      "1/1 [==============================] - 0s 112ms/step - loss: 0.2335 - acc: 0.9167 - val_loss: 2.1822 - val_acc: 0.4286\n",
      "Epoch 79/100\n",
      "1/1 [==============================] - 0s 221ms/step - loss: 0.1048 - acc: 0.9375 - val_loss: 2.1802 - val_acc: 0.4286\n",
      "Epoch 80/100\n",
      "1/1 [==============================] - 0s 97ms/step - loss: 0.1499 - acc: 0.9167 - val_loss: 2.2749 - val_acc: 0.4286\n",
      "Epoch 81/100\n",
      "1/1 [==============================] - 0s 204ms/step - loss: 0.0863 - acc: 0.9688 - val_loss: 2.3142 - val_acc: 0.4286\n",
      "Epoch 82/100\n",
      "1/1 [==============================] - 0s 124ms/step - loss: 0.1031 - acc: 1.0000 - val_loss: 2.4234 - val_acc: 0.4286\n",
      "Epoch 83/100\n",
      "1/1 [==============================] - 0s 213ms/step - loss: 0.1068 - acc: 1.0000 - val_loss: 2.4229 - val_acc: 0.4286\n",
      "Epoch 84/100\n",
      "1/1 [==============================] - 0s 106ms/step - loss: 0.1447 - acc: 0.9167 - val_loss: 2.5717 - val_acc: 0.4286\n",
      "Epoch 85/100\n",
      "1/1 [==============================] - 0s 205ms/step - loss: 0.0619 - acc: 0.9688 - val_loss: 2.6680 - val_acc: 0.4286\n",
      "Epoch 86/100\n",
      "1/1 [==============================] - 0s 103ms/step - loss: 0.1802 - acc: 0.9167 - val_loss: 2.6029 - val_acc: 0.4286\n",
      "Epoch 87/100\n",
      "1/1 [==============================] - 0s 223ms/step - loss: 0.0982 - acc: 0.9688 - val_loss: 2.5617 - val_acc: 0.4286\n",
      "Epoch 88/100\n",
      "1/1 [==============================] - 0s 103ms/step - loss: 0.1534 - acc: 1.0000 - val_loss: 2.4563 - val_acc: 0.2857\n",
      "Epoch 89/100\n",
      "1/1 [==============================] - 0s 199ms/step - loss: 0.0517 - acc: 1.0000 - val_loss: 2.4024 - val_acc: 0.2857\n",
      "Epoch 90/100\n",
      "1/1 [==============================] - 0s 105ms/step - loss: 0.1048 - acc: 1.0000 - val_loss: 2.3985 - val_acc: 0.2857\n",
      "Epoch 91/100\n",
      "1/1 [==============================] - 0s 199ms/step - loss: 0.0891 - acc: 1.0000 - val_loss: 2.3842 - val_acc: 0.2857\n",
      "Epoch 92/100\n",
      "1/1 [==============================] - 0s 104ms/step - loss: 0.1685 - acc: 0.9167 - val_loss: 2.5242 - val_acc: 0.4286\n",
      "Epoch 93/100\n",
      "1/1 [==============================] - 0s 211ms/step - loss: 0.0876 - acc: 0.9688 - val_loss: 2.6088 - val_acc: 0.4286\n",
      "Epoch 94/100\n",
      "1/1 [==============================] - 0s 107ms/step - loss: 0.0465 - acc: 1.0000 - val_loss: 2.7290 - val_acc: 0.4286\n",
      "Epoch 95/100\n",
      "1/1 [==============================] - 0s 229ms/step - loss: 0.2103 - acc: 0.9375 - val_loss: 2.6832 - val_acc: 0.4286\n",
      "Epoch 96/100\n",
      "1/1 [==============================] - 0s 106ms/step - loss: 0.1123 - acc: 0.9167 - val_loss: 2.7439 - val_acc: 0.4286\n",
      "Epoch 97/100\n",
      "1/1 [==============================] - 0s 210ms/step - loss: 0.1355 - acc: 0.9375 - val_loss: 2.6424 - val_acc: 0.4286\n",
      "Epoch 98/100\n",
      "1/1 [==============================] - 0s 102ms/step - loss: 0.1969 - acc: 0.8333 - val_loss: 2.5946 - val_acc: 0.4286\n",
      "Epoch 99/100\n",
      "1/1 [==============================] - 0s 212ms/step - loss: 0.1733 - acc: 0.8750 - val_loss: 2.3336 - val_acc: 0.2857\n",
      "Epoch 100/100\n",
      "1/1 [==============================] - 0s 103ms/step - loss: 0.0960 - acc: 0.9167 - val_loss: 2.1852 - val_acc: 0.2857\n"
     ]
    },
    {
     "data": {
      "text/plain": [
       "<keras.callbacks.History at 0x1391a8d0>"
      ]
     },
     "execution_count": 20,
     "metadata": {},
     "output_type": "execute_result"
    }
   ],
   "source": [
    "classifier.fit_generator(training_set, steps_per_epoch=1, epochs=100, verbose=1, callbacks=None, validation_data=test_set, validation_steps=1, class_weight=None, max_queue_size=10, workers=1, use_multiprocessing=False, shuffle=True, initial_epoch=0)\n",
    "     "
   ]
  },
  {
   "cell_type": "code",
   "execution_count": 21,
   "metadata": {},
   "outputs": [
    {
     "data": {
      "image/png": "[encoded data removed]",
      "text/plain": [
       "<PIL.Image.Image image mode=RGB size=64x64 at 0x139D5BE0>"
      ]
     },
     "execution_count": 21,
     "metadata": {},
     "output_type": "execute_result"
    }
   ],
   "source": [
    "import numpy as np\n",
    "from keras.preprocessing import image\n",
    "test_image = image.load_img('C:/Deep Learning Applications in/code/TestImages/brain-tumors-fig2_large.jpg', target_size = (64, 64))\n",
    "test_image"
   ]
  },
  {
   "cell_type": "code",
   "execution_count": 22,
   "metadata": {},
   "outputs": [
    {
     "data": {
      "text/plain": [
       "array([[[[57., 57., 57.],\n",
       "         [11., 11., 11.],\n",
       "         [11., 11., 11.],\n",
       "         ...,\n",
       "         [11., 11., 11.],\n",
       "         [11., 11., 11.],\n",
       "         [10., 10., 10.]],\n",
       "\n",
       "        [[14., 14., 14.],\n",
       "         [14., 14., 14.],\n",
       "         [11., 11., 11.],\n",
       "         ...,\n",
       "         [10., 10., 10.],\n",
       "         [10., 10., 10.],\n",
       "         [ 9.,  9.,  9.]],\n",
       "\n",
       "        [[12., 12., 12.],\n",
       "         [10., 10., 10.],\n",
       "         [11., 11., 11.],\n",
       "         ...,\n",
       "         [11., 11., 11.],\n",
       "         [11., 11., 11.],\n",
       "         [11., 11., 11.]],\n",
       "\n",
       "        ...,\n",
       "\n",
       "        [[63., 63., 63.],\n",
       "         [60., 60., 60.],\n",
       "         [93., 93., 93.],\n",
       "         ...,\n",
       "         [11., 11., 11.],\n",
       "         [11., 11., 11.],\n",
       "         [11., 11., 11.]],\n",
       "\n",
       "        [[23., 23., 23.],\n",
       "         [ 5.,  5.,  5.],\n",
       "         [ 8.,  8.,  8.],\n",
       "         ...,\n",
       "         [11., 11., 11.],\n",
       "         [11., 11., 11.],\n",
       "         [11., 11., 11.]],\n",
       "\n",
       "        [[13., 13., 13.],\n",
       "         [13., 13., 13.],\n",
       "         [15., 15., 15.],\n",
       "         ...,\n",
       "         [ 9.,  9.,  9.],\n",
       "         [ 9.,  9.,  9.],\n",
       "         [ 9.,  9.,  9.]]]], dtype=float32)"
      ]
     },
     "execution_count": 22,
     "metadata": {},
     "output_type": "execute_result"
    }
   ],
   "source": [
    "test_image = image.img_to_array(test_image)\n",
    "\n",
    "test_image = np.expand_dims(test_image, axis = 0)\n",
    "test_image"
   ]
  },
  {
   "cell_type": "code",
   "execution_count": 23,
   "metadata": {},
   "outputs": [
    {
     "data": {
      "text/plain": [
       "array([[1.]], dtype=float32)"
      ]
     },
     "execution_count": 23,
     "metadata": {},
     "output_type": "execute_result"
    }
   ],
   "source": [
    "result = classifier.predict(test_image)\n",
    "result"
   ]
  },
  {
   "cell_type": "code",
   "execution_count": 24,
   "metadata": {},
   "outputs": [
    {
     "data": {
      "text/plain": [
       "{'Benign': 0, 'Malignant': 1}"
      ]
     },
     "execution_count": 24,
     "metadata": {},
     "output_type": "execute_result"
    }
   ],
   "source": [
    "training_set.class_indices"
   ]
  },
  {
   "cell_type": "code",
   "execution_count": 25,
   "metadata": {},
   "outputs": [
    {
     "name": "stdout",
     "output_type": "stream",
     "text": [
      "Detected tumor type is Malignent\n"
     ]
    }
   ],
   "source": [
    "if result[0][0] == 0:\n",
    "    prediction = 'Benign'\n",
    "else:\n",
    "    prediction = 'Malignent'\n",
    "print(\"Detected tumor type is %s\"%prediction)\n"
   ]
  },
  {
   "cell_type": "code",
   "execution_count": null,
   "metadata": {},
   "outputs": [],
   "source": []
  },
  {
   "cell_type": "code",
   "execution_count": null,
   "metadata": {},
   "outputs": [],
   "source": []
  }
 ],
 "metadata": {
  "kernelspec": {
   "display_name": "Python 3",
   "language": "python",
   "name": "python3"
  },
  "language_info": {
   "codemirror_mode": {
    "name": "ipython",
    "version": 3
   },
   "file_extension": ".py",
   "mimetype": "text/x-python",
   "name": "python",
   "nbconvert_exporter": "python",
   "pygments_lexer": "ipython3",
   "version": "3.7.3"
  }
 },
 "nbformat": 4,
 "nbformat_minor": 2
}
